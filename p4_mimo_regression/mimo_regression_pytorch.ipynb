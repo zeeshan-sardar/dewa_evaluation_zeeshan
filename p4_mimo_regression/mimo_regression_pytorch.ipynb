{
  "nbformat": 4,
  "nbformat_minor": 0,
  "metadata": {
    "colab": {
      "name": "mimo_regression_pytorch.ipynb",
      "provenance": [],
      "collapsed_sections": []
    },
    "kernelspec": {
      "name": "python3",
      "display_name": "Python 3"
    },
    "accelerator": "GPU"
  },
  "cells": [
    {
      "cell_type": "code",
      "metadata": {
        "colab": {
          "base_uri": "https://localhost:8080/"
        },
        "id": "ONiNrmlT-QLv",
        "outputId": "a7ed54f2-2908-49b5-cf30-6035bfd538b8"
      },
      "source": [
        "from google.colab import drive\n",
        "drive.mount('/content/drive')"
      ],
      "execution_count": 4,
      "outputs": [
        {
          "output_type": "stream",
          "text": [
            "Mounted at /content/drive\n"
          ],
          "name": "stdout"
        }
      ]
    },
    {
      "cell_type": "code",
      "metadata": {
        "id": "buS4CAMvVrMG"
      },
      "source": [
        "import torch\n",
        "from torch.autograd import Variable\n",
        "import torch.nn.functional as F\n",
        "import torch.utils.data as Data\n",
        "\n",
        "import matplotlib.pyplot as plt\n",
        "%matplotlib inline\n",
        "\n",
        "import pandas as pd\n",
        "import numpy as np\n",
        "import imageio\n",
        "from sklearn.model_selection import train_test_split\n",
        "\n"
      ],
      "execution_count": 5,
      "outputs": []
    },
    {
      "cell_type": "code",
      "metadata": {
        "colab": {
          "base_uri": "https://localhost:8080/"
        },
        "id": "e6HBf2mJV0w-",
        "outputId": "12901913-e604-42a5-83a1-077acf370714"
      },
      "source": [
        "x = pd.read_csv('/content/drive/MyDrive/repos/DEWA_task/input.csv', header=None)\n",
        "y = pd.read_csv('/content/drive/MyDrive/repos/DEWA_task/output.csv', header=None)\n",
        "\n",
        "x = torch.tensor(x.values.astype(np.float32))\n",
        "y = torch.tensor(y.values.astype(np.float32))\n",
        "\n",
        "x_train, x_test, y_train, y_test = train_test_split(x, y, test_size=0.20, random_state=42)\n",
        "\n",
        "x_train.shape"
      ],
      "execution_count": 6,
      "outputs": [
        {
          "output_type": "execute_result",
          "data": {
            "text/plain": [
              "torch.Size([17536, 23])"
            ]
          },
          "metadata": {
            "tags": []
          },
          "execution_count": 6
        }
      ]
    },
    {
      "cell_type": "code",
      "metadata": {
        "colab": {
          "base_uri": "https://localhost:8080/"
        },
        "id": "1Z1mP7Wd_EM-",
        "outputId": "bb0b4057-3c66-481e-f73f-44bf54a7437c"
      },
      "source": [
        "# torch can only train on Variable, so convert them to Variable\n",
        "x_train, y_train = Variable(x_train), Variable(y_train)\n",
        "print(y.size)"
      ],
      "execution_count": 7,
      "outputs": [
        {
          "output_type": "stream",
          "text": [
            "<built-in method size of Tensor object at 0x7f2dd4a24558>\n"
          ],
          "name": "stdout"
        }
      ]
    },
    {
      "cell_type": "code",
      "metadata": {
        "id": "cHJ3IxjZV0p1",
        "colab": {
          "base_uri": "https://localhost:8080/"
        },
        "outputId": "8d999821-513e-4407-f4d5-4181392d89b6"
      },
      "source": [
        "# this is one way to define a network\n",
        "class Net(torch.nn.Module):\n",
        "    def __init__(self, n_feature, n_hidden, n_output):\n",
        "        super(Net, self).__init__()\n",
        "        self.hidden1 = torch.nn.Linear(n_feature, 20)   # hidden layer\n",
        "        \n",
        "        self.hidden2 = torch.nn.Linear(20, 16)   # hidden layer2\n",
        "        self.hidden3 = torch.nn.Linear(16, 12)   # hidden layer2\n",
        "        self.hidden4 = torch.nn.Linear(12, 8)   # hidden layer2\n",
        "        \n",
        "        self.predict = torch.nn.Linear(8, n_output)   # output layer\n",
        "\n",
        "    def forward(self, x):\n",
        "        x = F.relu(self.hidden1(x))      # activation function for hidden layer\n",
        "        x = F.relu(self.hidden2(x))      # activation function for hidden layer\n",
        "        x = F.relu(self.hidden3(x))      # activation function for hidden layer\n",
        "        x = F.relu(self.hidden4(x))      # activation function for hidden layer\n",
        "        x = self.predict(x)             # linear output\n",
        "        return x\n",
        "\n",
        "net = Net(n_feature=23, n_hidden=10, n_output=4)     # define the network\n",
        "# print(net)  # net architecture\n",
        "optimizer = torch.optim.SGD(net.parameters(), lr=0.2)\n",
        "loss_func = torch.nn.MSELoss()  # this is for regression mean squared loss\n",
        "\n",
        "# my_images = []\n",
        "# fig, ax = plt.subplots(figsize=(12,7))\n",
        "\n",
        "train_losses = []\n",
        "\n",
        "# train the network\n",
        "for t in range(200):\n",
        "  \n",
        "    prediction_train = net(x_train)     # input x and predict based on x\n",
        "    train_loss = loss_func(prediction_train, y_train)     # must be (1. nn output, 2. target)\n",
        "\n",
        "    print(f'Epoch: {t},\\t Loss: {train_loss}')\n",
        "    train_losses.append(train_loss.item())\n",
        "\n",
        "    optimizer.zero_grad()   # clear gradients for next train\n",
        "    train_loss.backward()         # backpropagation, compute gradients\n",
        "    optimizer.step()        # apply gradients\n",
        "    \n"
      ],
      "execution_count": 10,
      "outputs": [
        {
          "output_type": "stream",
          "text": [
            "Epoch: 0,\t Loss: 773.3119506835938\n",
            "Epoch: 1,\t Loss: 9740453251383296.0\n",
            "Epoch: 2,\t Loss: 89750648127488.0\n",
            "Epoch: 3,\t Loss: 72698025738240.0\n",
            "Epoch: 4,\t Loss: 58885402525696.0\n",
            "Epoch: 5,\t Loss: 47697180491776.0\n",
            "Epoch: 6,\t Loss: 38634711416832.0\n",
            "Epoch: 7,\t Loss: 31294115282944.0\n",
            "Epoch: 8,\t Loss: 25348234280960.0\n",
            "Epoch: 9,\t Loss: 20532068089856.0\n",
            "Epoch: 10,\t Loss: 16630975299584.0\n",
            "Epoch: 11,\t Loss: 13471091523584.0\n",
            "Epoch: 12,\t Loss: 10911582519296.0\n",
            "Epoch: 13,\t Loss: 8838383140864.0\n",
            "Epoch: 14,\t Loss: 7159089201152.0\n",
            "Epoch: 15,\t Loss: 5798862782464.0\n",
            "Epoch: 16,\t Loss: 4697077841920.0\n",
            "Epoch: 17,\t Loss: 3804633235456.0\n",
            "Epoch: 18,\t Loss: 3081752805376.0\n",
            "Epoch: 19,\t Loss: 2496219840512.0\n",
            "Epoch: 20,\t Loss: 2021938036736.0\n",
            "Epoch: 21,\t Loss: 1637769936896.0\n",
            "Epoch: 22,\t Loss: 1326593605632.0\n",
            "Epoch: 23,\t Loss: 1074540773376.0\n",
            "Epoch: 24,\t Loss: 870378110976.0\n",
            "Epoch: 25,\t Loss: 705006272512.0\n",
            "Epoch: 26,\t Loss: 571055079424.0\n",
            "Epoch: 27,\t Loss: 462554628096.0\n",
            "Epoch: 28,\t Loss: 374669213696.0\n",
            "Epoch: 29,\t Loss: 303482077184.0\n",
            "Epoch: 30,\t Loss: 245820489728.0\n",
            "Epoch: 31,\t Loss: 199114588160.0\n",
            "Epoch: 32,\t Loss: 161282818048.0\n",
            "Epoch: 33,\t Loss: 130639085568.0\n",
            "Epoch: 34,\t Loss: 105817669632.0\n",
            "Epoch: 35,\t Loss: 85712314368.0\n",
            "Epoch: 36,\t Loss: 69426970624.0\n",
            "Epoch: 37,\t Loss: 56235843584.0\n",
            "Epoch: 38,\t Loss: 45551038464.0\n",
            "Epoch: 39,\t Loss: 36896342016.0\n",
            "Epoch: 40,\t Loss: 29886033920.0\n",
            "Epoch: 41,\t Loss: 24207687680.0\n",
            "Epoch: 42,\t Loss: 19608229888.0\n",
            "Epoch: 43,\t Loss: 15882663936.0\n",
            "Epoch: 44,\t Loss: 12864957440.0\n",
            "Epoch: 45,\t Loss: 10420615168.0\n",
            "Epoch: 46,\t Loss: 8440698368.0\n",
            "Epoch: 47,\t Loss: 6836966400.0\n",
            "Epoch: 48,\t Loss: 5537943552.0\n",
            "Epoch: 49,\t Loss: 4485734400.0\n",
            "Epoch: 50,\t Loss: 3633445120.0\n",
            "Epoch: 51,\t Loss: 2943090688.0\n",
            "Epoch: 52,\t Loss: 2383903232.0\n",
            "Epoch: 53,\t Loss: 1930961920.0\n",
            "Epoch: 54,\t Loss: 1564078976.0\n",
            "Epoch: 55,\t Loss: 1266903936.0\n",
            "Epoch: 56,\t Loss: 1026192256.0\n",
            "Epoch: 57,\t Loss: 831215680.0\n",
            "Epoch: 58,\t Loss: 673284672.0\n",
            "Epoch: 59,\t Loss: 545360576.0\n",
            "Epoch: 60,\t Loss: 441742112.0\n",
            "Epoch: 61,\t Loss: 357811200.0\n",
            "Epoch: 62,\t Loss: 289827040.0\n",
            "Epoch: 63,\t Loss: 234759936.0\n",
            "Epoch: 64,\t Loss: 190155552.0\n",
            "Epoch: 65,\t Loss: 154026016.0\n",
            "Epoch: 66,\t Loss: 124761088.0\n",
            "Epoch: 67,\t Loss: 101056512.0\n",
            "Epoch: 68,\t Loss: 81855784.0\n",
            "Epoch: 69,\t Loss: 66303216.0\n",
            "Epoch: 70,\t Loss: 53705628.0\n",
            "Epoch: 71,\t Loss: 43501584.0\n",
            "Epoch: 72,\t Loss: 35236304.0\n",
            "Epoch: 73,\t Loss: 28541426.0\n",
            "Epoch: 74,\t Loss: 23118576.0\n",
            "Epoch: 75,\t Loss: 18726068.0\n",
            "Epoch: 76,\t Loss: 15168136.0\n",
            "Epoch: 77,\t Loss: 12286212.0\n",
            "Epoch: 78,\t Loss: 9951852.0\n",
            "Epoch: 79,\t Loss: 8061022.5\n",
            "Epoch: 80,\t Loss: 6529450.5\n",
            "Epoch: 81,\t Loss: 5288876.5\n",
            "Epoch: 82,\t Loss: 4284011.0\n",
            "Epoch: 83,\t Loss: 3470070.5\n",
            "Epoch: 84,\t Loss: 2810778.5\n",
            "Epoch: 85,\t Loss: 2276752.25\n",
            "Epoch: 86,\t Loss: 1844191.0\n",
            "Epoch: 87,\t Loss: 1493816.25\n",
            "Epoch: 88,\t Loss: 1210012.875\n",
            "Epoch: 89,\t Loss: 980132.0625\n",
            "Epoch: 90,\t Loss: 793928.4375\n",
            "Epoch: 91,\t Loss: 643103.5625\n",
            "Epoch: 92,\t Loss: 520935.40625\n",
            "Epoch: 93,\t Loss: 421979.25\n",
            "Epoch: 94,\t Loss: 341824.75\n",
            "Epoch: 95,\t Loss: 276899.625\n",
            "Epoch: 96,\t Loss: 224310.21875\n",
            "Epoch: 97,\t Loss: 181712.828125\n",
            "Epoch: 98,\t Loss: 147208.953125\n",
            "Epoch: 99,\t Loss: 119260.8046875\n",
            "Epoch: 100,\t Loss: 96622.8125\n",
            "Epoch: 101,\t Loss: 78286.0234375\n",
            "Epoch: 102,\t Loss: 63433.234375\n",
            "Epoch: 103,\t Loss: 51402.47265625\n",
            "Epoch: 104,\t Loss: 41657.5546875\n",
            "Epoch: 105,\t Loss: 33764.17578125\n",
            "Epoch: 106,\t Loss: 27370.533203125\n",
            "Epoch: 107,\t Loss: 22191.685546875\n",
            "Epoch: 108,\t Loss: 17996.8203125\n",
            "Epoch: 109,\t Loss: 14598.9794921875\n",
            "Epoch: 110,\t Loss: 11846.728515625\n",
            "Epoch: 111,\t Loss: 9617.4033203125\n",
            "Epoch: 112,\t Loss: 7811.6513671875\n",
            "Epoch: 113,\t Loss: 6348.99072265625\n",
            "Epoch: 114,\t Loss: 5164.2373046875\n",
            "Epoch: 115,\t Loss: 4204.58642578125\n",
            "Epoch: 116,\t Loss: 3427.26904296875\n",
            "Epoch: 117,\t Loss: 2797.641845703125\n",
            "Epoch: 118,\t Loss: 2287.64404296875\n",
            "Epoch: 119,\t Loss: 1874.5458984375\n",
            "Epoch: 120,\t Loss: 1539.93603515625\n",
            "Epoch: 121,\t Loss: 1268.902099609375\n",
            "Epoch: 122,\t Loss: 1049.364990234375\n",
            "Epoch: 123,\t Loss: 871.5394897460938\n",
            "Epoch: 124,\t Loss: 727.5010986328125\n",
            "Epoch: 125,\t Loss: 610.829833984375\n",
            "Epoch: 126,\t Loss: 516.326171875\n",
            "Epoch: 127,\t Loss: 439.77825927734375\n",
            "Epoch: 128,\t Loss: 377.7744140625\n",
            "Epoch: 129,\t Loss: 327.5513000488281\n",
            "Epoch: 130,\t Loss: 286.8705139160156\n",
            "Epoch: 131,\t Loss: 253.91915893554688\n",
            "Epoch: 132,\t Loss: 227.22854614257812\n",
            "Epoch: 133,\t Loss: 205.60914611816406\n",
            "Epoch: 134,\t Loss: 188.09739685058594\n",
            "Epoch: 135,\t Loss: 173.9129180908203\n",
            "Epoch: 136,\t Loss: 162.4235076904297\n",
            "Epoch: 137,\t Loss: 153.11705017089844\n",
            "Epoch: 138,\t Loss: 145.57884216308594\n",
            "Epoch: 139,\t Loss: 139.4728546142578\n",
            "Epoch: 140,\t Loss: 134.5270233154297\n",
            "Epoch: 141,\t Loss: 130.52093505859375\n",
            "Epoch: 142,\t Loss: 127.2759780883789\n",
            "Epoch: 143,\t Loss: 124.64755249023438\n",
            "Epoch: 144,\t Loss: 122.5185317993164\n",
            "Epoch: 145,\t Loss: 120.79402160644531\n",
            "Epoch: 146,\t Loss: 119.39718627929688\n",
            "Epoch: 147,\t Loss: 118.2657241821289\n",
            "Epoch: 148,\t Loss: 117.3492660522461\n",
            "Epoch: 149,\t Loss: 116.60692596435547\n",
            "Epoch: 150,\t Loss: 116.00563049316406\n",
            "Epoch: 151,\t Loss: 115.51858520507812\n",
            "Epoch: 152,\t Loss: 115.12406158447266\n",
            "Epoch: 153,\t Loss: 114.80450439453125\n",
            "Epoch: 154,\t Loss: 114.5456771850586\n",
            "Epoch: 155,\t Loss: 114.33601379394531\n",
            "Epoch: 156,\t Loss: 114.16618347167969\n",
            "Epoch: 157,\t Loss: 114.02861785888672\n",
            "Epoch: 158,\t Loss: 113.9172134399414\n",
            "Epoch: 159,\t Loss: 113.82695770263672\n",
            "Epoch: 160,\t Loss: 113.75386047363281\n",
            "Epoch: 161,\t Loss: 113.69463348388672\n",
            "Epoch: 162,\t Loss: 113.64666748046875\n",
            "Epoch: 163,\t Loss: 113.60781860351562\n",
            "Epoch: 164,\t Loss: 113.57635498046875\n",
            "Epoch: 165,\t Loss: 113.55085754394531\n",
            "Epoch: 166,\t Loss: 113.53022003173828\n",
            "Epoch: 167,\t Loss: 113.51350402832031\n",
            "Epoch: 168,\t Loss: 113.49993896484375\n",
            "Epoch: 169,\t Loss: 113.48898315429688\n",
            "Epoch: 170,\t Loss: 113.48008728027344\n",
            "Epoch: 171,\t Loss: 113.47288513183594\n",
            "Epoch: 172,\t Loss: 113.4670639038086\n",
            "Epoch: 173,\t Loss: 113.46233367919922\n",
            "Epoch: 174,\t Loss: 113.45849609375\n",
            "Epoch: 175,\t Loss: 113.45540618896484\n",
            "Epoch: 176,\t Loss: 113.4529037475586\n",
            "Epoch: 177,\t Loss: 113.45087432861328\n",
            "Epoch: 178,\t Loss: 113.44921875\n",
            "Epoch: 179,\t Loss: 113.4478759765625\n",
            "Epoch: 180,\t Loss: 113.4468002319336\n",
            "Epoch: 181,\t Loss: 113.44591522216797\n",
            "Epoch: 182,\t Loss: 113.44522094726562\n",
            "Epoch: 183,\t Loss: 113.44463348388672\n",
            "Epoch: 184,\t Loss: 113.44417572021484\n",
            "Epoch: 185,\t Loss: 113.44380187988281\n",
            "Epoch: 186,\t Loss: 113.44349670410156\n",
            "Epoch: 187,\t Loss: 113.44324493408203\n",
            "Epoch: 188,\t Loss: 113.44305419921875\n",
            "Epoch: 189,\t Loss: 113.44288635253906\n",
            "Epoch: 190,\t Loss: 113.44276428222656\n",
            "Epoch: 191,\t Loss: 113.44265747070312\n",
            "Epoch: 192,\t Loss: 113.44255828857422\n",
            "Epoch: 193,\t Loss: 113.44249725341797\n",
            "Epoch: 194,\t Loss: 113.44243621826172\n",
            "Epoch: 195,\t Loss: 113.44239807128906\n",
            "Epoch: 196,\t Loss: 113.4423599243164\n",
            "Epoch: 197,\t Loss: 113.44233703613281\n",
            "Epoch: 198,\t Loss: 113.44230651855469\n",
            "Epoch: 199,\t Loss: 113.4422836303711\n"
          ],
          "name": "stdout"
        }
      ]
    },
    {
      "cell_type": "code",
      "metadata": {
        "id": "pgLNg3LIV0Vg",
        "colab": {
          "base_uri": "https://localhost:8080/",
          "height": 295
        },
        "outputId": "136f5bd0-d556-4501-8583-d94f8d572485"
      },
      "source": [
        "plt.figure(figsize=(10,4))\n",
        "plt.plot(train_losses[10:], color = \"orange\")\n",
        "plt.title('Regression Analysis')\n",
        "plt.xlabel('Independent varible')\n",
        "plt.ylabel('Dependent varible')\n",
        "# plt.grid()\n",
        "plt.show()"
      ],
      "execution_count": 11,
      "outputs": [
        {
          "output_type": "display_data",
          "data": {
            "image/png": "[encoded data removed]",
            "text/plain": [
              "<Figure size 720x288 with 1 Axes>"
            ]
          },
          "metadata": {
            "tags": [],
            "needs_background": "light"
          }
        }
      ]
    },
    {
      "cell_type": "code",
      "metadata": {
        "id": "y7tv77KiRnsR"
      },
      "source": [
        ""
      ],
      "execution_count": null,
      "outputs": []
    }
  ]
}